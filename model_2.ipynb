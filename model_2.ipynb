{
 "cells": [
  {
   "cell_type": "code",
   "execution_count": 1,
   "id": "f575d222",
   "metadata": {},
   "outputs": [
    {
     "name": "stderr",
     "output_type": "stream",
     "text": [
      "No model was supplied, defaulted to distilbert/distilbert-base-uncased-finetuned-sst-2-english and revision 714eb0f (https://huggingface.co/distilbert/distilbert-base-uncased-finetuned-sst-2-english).\n",
      "Using a pipeline without specifying a model name and revision in production is not recommended.\n"
     ]
    },
    {
     "name": "stdout",
     "output_type": "stream",
     "text": [
      "WARNING:tensorflow:From c:\\Users\\Hossam\\anaconda4\\Lib\\site-packages\\tf_keras\\src\\losses.py:2976: The name tf.losses.sparse_softmax_cross_entropy is deprecated. Please use tf.compat.v1.losses.sparse_softmax_cross_entropy instead.\n",
      "\n"
     ]
    },
    {
     "name": "stderr",
     "output_type": "stream",
     "text": [
      "Device set to use cpu\n"
     ]
    }
   ],
   "source": [
    "from transformers import pipeline\n",
    "sentiment_analyzer = pipeline(\"sentiment-analysis\")"
   ]
  },
  {
   "cell_type": "code",
   "execution_count": 4,
   "id": "a705fb6e",
   "metadata": {},
   "outputs": [],
   "source": [
    "sentences = [\n",
    "    \"I love this product, it works perfectly!\",\n",
    "    \"This is the worst service I have ever received.\",\n",
    "    \"The experience was okay, nothing special.\",\n",
    "    \"I am so happy with the result!\",\n",
    "    \"Completely disappointed, not recommended.\",\n",
    "    \"Everything was fine and clean.\",\n",
    "    \"Terrible food and rude staff.\",\n",
    "    \"I didn't notice any improvement.\",\n",
    "    \"The staff were very friendly.\",\n",
    "    \"It was a huge disappointment.\",\n",
    "    \"An average experience.\",\n",
    "    \"I'm really impressed with this app.\",\n",
    "    \"The service was below expectations.\",\n",
    "    \"It was a wonderful evening.\",\n",
    "    \"Not good, not bad.\",\n",
    "    \"Excellent in every way!\",\n",
    "    \"I do not recommend this product.\",\n",
    "    \"Best thing I've tried recently.\",\n",
    "    \"The service needs a lot of improvement.\",\n",
    "    \"It's okay but not the best.\"\n",
    "]\n"
   ]
  },
  {
   "cell_type": "code",
   "execution_count": 11,
   "id": "e61f9504",
   "metadata": {},
   "outputs": [
    {
     "name": "stdout",
     "output_type": "stream",
     "text": [
      "Text: I love this product, it works perfectly!\n",
      "Label: POSITIVE, Score: 1.00\n",
      "\n",
      "Text: This is the worst service I have ever received.\n",
      "Label: NEGATIVE, Score: 1.00\n",
      "\n",
      "Text: The experience was okay, nothing special.\n",
      "Label: NEGATIVE, Score: 0.99\n",
      "\n",
      "Text: I am so happy with the result!\n",
      "Label: POSITIVE, Score: 1.00\n",
      "\n",
      "Text: Completely disappointed, not recommended.\n",
      "Label: NEGATIVE, Score: 1.00\n",
      "\n",
      "Text: Everything was fine and clean.\n",
      "Label: POSITIVE, Score: 1.00\n",
      "\n",
      "Text: Terrible food and rude staff.\n",
      "Label: NEGATIVE, Score: 1.00\n",
      "\n",
      "Text: I didn't notice any improvement.\n",
      "Label: NEGATIVE, Score: 0.99\n",
      "\n",
      "Text: The staff were very friendly.\n",
      "Label: POSITIVE, Score: 1.00\n",
      "\n",
      "Text: It was a huge disappointment.\n",
      "Label: NEGATIVE, Score: 1.00\n",
      "\n",
      "Text: An average experience.\n",
      "Label: POSITIVE, Score: 0.98\n",
      "\n",
      "Text: I'm really impressed with this app.\n",
      "Label: POSITIVE, Score: 1.00\n",
      "\n",
      "Text: The service was below expectations.\n",
      "Label: NEGATIVE, Score: 0.98\n",
      "\n",
      "Text: It was a wonderful evening.\n",
      "Label: POSITIVE, Score: 1.00\n",
      "\n",
      "Text: Not good, not bad.\n",
      "Label: NEGATIVE, Score: 1.00\n",
      "\n",
      "Text: Excellent in every way!\n",
      "Label: POSITIVE, Score: 1.00\n",
      "\n",
      "Text: I do not recommend this product.\n",
      "Label: NEGATIVE, Score: 0.99\n",
      "\n",
      "Text: Best thing I've tried recently.\n",
      "Label: POSITIVE, Score: 0.81\n",
      "\n",
      "Text: The service needs a lot of improvement.\n",
      "Label: NEGATIVE, Score: 1.00\n",
      "\n",
      "Text: It's okay but not the best.\n",
      "Label: NEGATIVE, Score: 0.96\n",
      "\n"
     ]
    }
   ],
   "source": [
    "for sentence in sentences:\n",
    "    result = sentiment_analyzer(sentence)[0]\n",
    "    print(f\"Text: {sentence}\")\n",
    "    print(f\"Label: {result['label']}, Score: {result['score']:.2f}\")\n",
    "    print()"
   ]
  },
  {
   "cell_type": "code",
   "execution_count": null,
   "id": "91872665",
   "metadata": {},
   "outputs": [],
   "source": []
  }
 ],
 "metadata": {
  "kernelspec": {
   "display_name": "base",
   "language": "python",
   "name": "python3"
  },
  "language_info": {
   "codemirror_mode": {
    "name": "ipython",
    "version": 3
   },
   "file_extension": ".py",
   "mimetype": "text/x-python",
   "name": "python",
   "nbconvert_exporter": "python",
   "pygments_lexer": "ipython3",
   "version": "3.12.7"
  }
 },
 "nbformat": 4,
 "nbformat_minor": 5
}
